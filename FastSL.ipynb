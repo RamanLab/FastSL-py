{
 "cells": [
  {
   "cell_type": "markdown",
   "metadata": {},
   "source": [
    "## Import modules"
   ]
  },
  {
   "cell_type": "code",
   "execution_count": 1,
   "metadata": {},
   "outputs": [],
   "source": [
    "import cobra\n",
    "from tqdm import tqdm\n",
    "import numpy as np\n",
    "import math"
   ]
  },
  {
   "cell_type": "markdown",
   "metadata": {},
   "source": [
    "## Test Model"
   ]
  },
  {
   "cell_type": "code",
   "execution_count": 2,
   "metadata": {},
   "outputs": [
    {
     "data": {
      "text/html": [
       "\n",
       "        <table>\n",
       "            <tr>\n",
       "                <td><strong>Name</strong></td>\n",
       "                <td>e_coli_core</td>\n",
       "            </tr><tr>\n",
       "                <td><strong>Memory address</strong></td>\n",
       "                <td>0x0112d05e48</td>\n",
       "            </tr><tr>\n",
       "                <td><strong>Number of metabolites</strong></td>\n",
       "                <td>72</td>\n",
       "            </tr><tr>\n",
       "                <td><strong>Number of reactions</strong></td>\n",
       "                <td>95</td>\n",
       "            </tr><tr>\n",
       "                <td><strong>Objective expression</strong></td>\n",
       "                <td>-1.0*Biomass_Ecoli_core_reverse_2cdba + 1.0*Biomass_Ecoli_core</td>\n",
       "            </tr><tr>\n",
       "                <td><strong>Compartments</strong></td>\n",
       "                <td>cytosol, extracellular</td>\n",
       "            </tr>\n",
       "          </table>"
      ],
      "text/plain": [
       "<Model e_coli_core at 0x112d05e48>"
      ]
     },
     "execution_count": 2,
     "metadata": {},
     "output_type": "execute_result"
    }
   ],
   "source": [
    "import cobra.test\n",
    "model = cobra.test.create_test_model('textbook')\n",
    "model"
   ]
  },
  {
   "cell_type": "markdown",
   "metadata": {},
   "source": [
    "## Model"
   ]
  },
  {
   "cell_type": "code",
   "execution_count": 3,
   "metadata": {},
   "outputs": [],
   "source": [
    "# model = cobra.io.read_sbml_model('Models/iAF1260.xml')\n",
    "# model"
   ]
  },
  {
   "cell_type": "markdown",
   "metadata": {},
   "source": [
    "## Elimination list and model config"
   ]
  },
  {
   "cell_type": "code",
   "execution_count": 4,
   "metadata": {},
   "outputs": [],
   "source": [
    "elilist = model.exchanges\n",
    "model.solver = 'glpk'"
   ]
  },
  {
   "cell_type": "markdown",
   "metadata": {},
   "source": [
    "## Core model optimization"
   ]
  },
  {
   "cell_type": "code",
   "execution_count": 5,
   "metadata": {},
   "outputs": [],
   "source": [
    "solWT = model.optimize()\n",
    "# solWT"
   ]
  },
  {
   "cell_type": "markdown",
   "metadata": {},
   "source": [
    "## Objective value and fluxes"
   ]
  },
  {
   "cell_type": "code",
   "execution_count": 6,
   "metadata": {},
   "outputs": [],
   "source": [
    "grWT = solWT.objective_value\n",
    "J = solWT.fluxes"
   ]
  },
  {
   "cell_type": "markdown",
   "metadata": {},
   "source": [
    "## Flux operations to obtain Jnz"
   ]
  },
  {
   "cell_type": "code",
   "execution_count": 7,
   "metadata": {},
   "outputs": [],
   "source": [
    "Jnz_before_filtering = np.flatnonzero(J)\n",
    "eliIdx = [model.reactions.index(reaction_id) for reaction_id in elilist]\n",
    "Jnz = np.setdiff1d(Jnz_before_filtering,eliIdx)\n",
    "# Jnz"
   ]
  },
  {
   "cell_type": "markdown",
   "metadata": {},
   "source": [
    "## Single lethal reactions"
   ]
  },
  {
   "cell_type": "code",
   "execution_count": 8,
   "metadata": {},
   "outputs": [],
   "source": [
    "Jsl_idx = []\n",
    "for delIdx_i in Jnz:\n",
    "    with model:\n",
    "        model.reactions[delIdx_i].knock_out()\n",
    "        solKO_i = model.slim_optimize()\n",
    "        if solKO_i < 0.01 * grWT or math.isnan(solKO_i) == True:\n",
    "            Jsl_idx.append(int(delIdx_i))\n",
    "Jsl_idx = np.array(Jsl_idx)\n",
    "# Jsl_idx"
   ]
  },
  {
   "cell_type": "code",
   "execution_count": 10,
   "metadata": {},
   "outputs": [
    {
     "data": {
      "text/plain": [
       "(14,)"
      ]
     },
     "execution_count": 10,
     "metadata": {},
     "output_type": "execute_result"
    }
   ],
   "source": [
    "Jsl_idx.shape"
   ]
  },
  {
   "cell_type": "markdown",
   "metadata": {},
   "source": [
    "## Eliminating single lethal reactions to continue further"
   ]
  },
  {
   "cell_type": "code",
   "execution_count": 11,
   "metadata": {},
   "outputs": [],
   "source": [
    "Jnz_copy = np.setdiff1d(Jnz,Jsl_idx)\n",
    "# Jnz_copy"
   ]
  },
  {
   "cell_type": "markdown",
   "metadata": {},
   "source": [
    "## Double and Triple lethal reactions"
   ]
  },
  {
   "cell_type": "markdown",
   "metadata": {},
   "source": [
    "### First part"
   ]
  },
  {
   "cell_type": "code",
   "execution_count": 12,
   "metadata": {},
   "outputs": [
    {
     "name": "stderr",
     "output_type": "stream",
     "text": [
      "\r",
      "Part 1 of 2:   0%|          | 0/28 [00:00<?, ?it/s]cobra/util/solver.py:403 \u001b[1;31mUserWarning\u001b[0m: solver status is 'infeasible'\n",
      "\r",
      "Part 1 of 2:  50%|█████     | 14/28 [00:00<00:00, 135.86it/s]\r",
      "Part 1 of 2: 100%|██████████| 28/28 [00:00<00:00, 143.61it/s]\n"
     ]
    }
   ],
   "source": [
    "Jdl_idx = []\n",
    "Jtl_idx = []\n",
    "\n",
    "for delIdx_i in tqdm(Jnz_copy,desc='Part 1 of 2'):\n",
    "    with model:\n",
    "        model.reactions[delIdx_i].knock_out()\n",
    "        solKO_i = model.optimize()\n",
    "        newnnz = np.flatnonzero(solKO_i.fluxes)\n",
    "        Jnz_i_before_filtering = np.setdiff1d(newnnz,Jnz)\n",
    "        Jnz_i = np.setdiff1d(Jnz_i_before_filtering,eliIdx)\n",
    "\n",
    "        for delIdx_j in Jnz_i:\n",
    "            with model:\n",
    "                model.reactions[delIdx_j].knock_out()\n",
    "                solKO_ij = model.slim_optimize()\n",
    "                if solKO_ij < 0.01 * grWT and math.isnan(solKO_ij) is False:\n",
    "                    Jdl_idx.append([int(delIdx_i),int(delIdx_j)])\n",
    "                    \n",
    "                elif math.isnan(solKO_ij) is True:\n",
    "                    solKO_ij_infeasibility = model.optimize()\n",
    "                    if solKO_ij_infeasibility.objective_value < 0.01 * grWT or math.isnan(solKO_ij_infeasibility.objective_value) == True:\n",
    "                        Jdl_idx.append([int(delIdx_i),int(delIdx_j)])\n",
    "#                         continue\n",
    "\n",
    "                    Jnz_ij_before_filtering = np.flatnonzero(solKO_ij_infeasibility.fluxes)\n",
    "                    Jnz_ij_after_filtering = np.setdiff1d(Jnz_ij_before_filtering,Jnz_before_filtering)\n",
    "                    Jnz_ij = np.setdiff1d(Jnz_ij_after_filtering,eliIdx)\n",
    "                    \n",
    "                    for delIdx_k in Jnz_ij:\n",
    "                        with model:\n",
    "                            model.reactions[delIdx_k].knock_out()\n",
    "                            solKO_ijk = model.slim_optimize()\n",
    "                            if solKO_ijk < 0.01 * grWT or math.isnan(solKO_ijk) == True:\n",
    "                                Jtl_idx.append([int(delIdx_i),int(delIdx_j),int(delIdx_k)])"
   ]
  },
  {
   "cell_type": "code",
   "execution_count": 13,
   "metadata": {},
   "outputs": [
    {
     "data": {
      "text/plain": [
       "16"
      ]
     },
     "execution_count": 13,
     "metadata": {},
     "output_type": "execute_result"
    }
   ],
   "source": [
    "len(Jdl_idx)"
   ]
  },
  {
   "cell_type": "code",
   "execution_count": 14,
   "metadata": {},
   "outputs": [
    {
     "data": {
      "text/plain": [
       "19"
      ]
     },
     "execution_count": 14,
     "metadata": {},
     "output_type": "execute_result"
    }
   ],
   "source": [
    "len(Jtl_idx)"
   ]
  },
  {
   "cell_type": "markdown",
   "metadata": {},
   "source": [
    "### Second part"
   ]
  },
  {
   "cell_type": "code",
   "execution_count": 15,
   "metadata": {},
   "outputs": [
    {
     "name": "stderr",
     "output_type": "stream",
     "text": [
      "\r",
      "Part 2 of 2:   0%|          | 0/28 [00:00<?, ?it/s]cobra/util/solver.py:403 \u001b[1;31mUserWarning\u001b[0m: solver status is 'infeasible'\n",
      "\r",
      "Part 2 of 2:  39%|███▉      | 11/28 [00:00<00:00, 103.92it/s]\r",
      "Part 2 of 2:  57%|█████▋    | 16/28 [00:00<00:00, 74.08it/s] \r",
      "Part 2 of 2:  71%|███████▏  | 20/28 [00:00<00:00, 32.74it/s]\r",
      "Part 2 of 2:  82%|████████▏ | 23/28 [00:00<00:00, 31.51it/s]\r",
      "Part 2 of 2:  93%|█████████▎| 26/28 [00:00<00:00, 28.51it/s]\r",
      "Part 2 of 2: 100%|██████████| 28/28 [00:01<00:00, 21.49it/s]\n"
     ]
    }
   ],
   "source": [
    "for delIdx_i in tqdm(Jnz_copy,desc='Part 2 of 2'):\n",
    "    for delIdx_j in Jnz_copy:\n",
    "        if np.where(Jnz_copy==delIdx_j) < np.where(Jnz_copy==delIdx_i):\n",
    "            with model:\n",
    "                model.reactions[delIdx_i].knock_out()\n",
    "                model.reactions[delIdx_j].knock_out()\n",
    "                solKO_ij = model.slim_optimize()\n",
    "                if solKO_ij < 0.01 * grWT and math.isnan(solKO_ij) is False:\n",
    "                    Jdl_idx.append([int(delIdx_i),int(delIdx_j)])\n",
    "                \n",
    "                elif math.isnan(solKO_ij) is True:\n",
    "                    solKO_ij = model.optimize()\n",
    "                    if solKO_ij.objective_value < 0.01 * grWT or math.isnan(solKO_ij.objective_value) == True:\n",
    "                        Jdl_idx.append([int(delIdx_i),int(delIdx_j)])\n",
    "#                          continue\n",
    "\n",
    "                    Jnz_ij_before_filtering = np.flatnonzero(solKO_ij.fluxes)\n",
    "                    Jnz_ij_after_filtering = np.setdiff1d(Jnz_ij_before_filtering,Jnz_before_filtering)\n",
    "                    Jnz_ij = np.setdiff1d(Jnz_ij_after_filtering,eliIdx)\n",
    "\n",
    "                    for delIdx_k in Jnz_ij:\n",
    "                        with model:\n",
    "                            solKO_ijk = model.slim_optimize()\n",
    "                            if solKO_ijk < 0.01 * grWT or math.isnan(solKO_ijk) == True:\n",
    "                                Jtl_idx.append([int(delIdx_i),int(delIdx_j),int(delIdx_k)])\n",
    "\n",
    "                    for delIdx_k in Jnz_copy:\n",
    "                        with model:\n",
    "                            if np.where(Jnz_copy==delIdx_k) < np.where(Jnz_copy==delIdx_j):\n",
    "                                solKO_ijk = model.slim_optimize()\n",
    "                                if solKO_ijk < 0.01 * grWT or math.isnan(solKO_ijk) == True:\n",
    "                                    Jtl_idx.append([int(delIdx_i),int(delIdx_j),int(delIdx_k)])\n",
    "\n",
    "# Eliminate double lethal reaction deletions in triple lethal reacutions\n",
    "Jdl_idx = np.array(Jdl_idx)\n",
    "Jtl_idx = np.array(Jtl_idx)"
   ]
  },
  {
   "cell_type": "code",
   "execution_count": 16,
   "metadata": {},
   "outputs": [
    {
     "data": {
      "text/plain": [
       "(88, 2)"
      ]
     },
     "execution_count": 16,
     "metadata": {},
     "output_type": "execute_result"
    }
   ],
   "source": [
    "Jdl_idx.shape"
   ]
  },
  {
   "cell_type": "code",
   "execution_count": 17,
   "metadata": {},
   "outputs": [
    {
     "data": {
      "text/plain": [
       "(906, 3)"
      ]
     },
     "execution_count": 17,
     "metadata": {},
     "output_type": "execute_result"
    }
   ],
   "source": [
    "Jtl_idx.shape"
   ]
  },
  {
   "cell_type": "code",
   "execution_count": 18,
   "metadata": {},
   "outputs": [],
   "source": [
    "temporary = []\n",
    "g = np.zeros(Jdl_idx.shape[0])\n",
    "for delIdx_i in Jtl_idx:\n",
    "    for delIdx_j in Jdl_idx:\n",
    "        g[np.where(Jdl_idx==delIdx_j)[0][0]] = np.sum(np.in1d(delIdx_i,delIdx_j))\n",
    "        if g[np.where(Jdl_idx==delIdx_j)[0][0]] >= 2:\n",
    "            break\n",
    "#             print(g[np.where(Jdl_idx==delIdx_j)[0][0]])\n",
    "    if np.max(g) < 2:\n",
    "#         print(g[np.where(Jdl_idx==delIdx_j)[0][0]])\n",
    "        temporary.append(delIdx_i)\n",
    "\n",
    "# Jtl_idx_copy = np.array(temporary)\n",
    "# Jtl_idx_copy = np.unique(np.sort(Jtl_idx_copy), axis=0)\n",
    "\n",
    "#     Jdl = [model.reactions.get_by_any(rxn_pair_idx) for rxn_pair_idx in Jdl_idx]\n",
    "#     Jtl = [model.reactions.get_by_any(rxn_triplet_idx) for rxn_triplet_idx in Jtl_idx]"
   ]
  },
  {
   "cell_type": "code",
   "execution_count": 19,
   "metadata": {},
   "outputs": [
    {
     "data": {
      "text/plain": [
       "[]"
      ]
     },
     "execution_count": 19,
     "metadata": {},
     "output_type": "execute_result"
    }
   ],
   "source": [
    "temporary"
   ]
  },
  {
   "cell_type": "code",
   "execution_count": null,
   "metadata": {},
   "outputs": [],
   "source": []
  }
 ],
 "metadata": {
  "kernelspec": {
   "display_name": "py361-cobra",
   "language": "python",
   "name": "py361-cobra"
  },
  "language_info": {
   "codemirror_mode": {
    "name": "ipython",
    "version": 3
   },
   "file_extension": ".py",
   "mimetype": "text/x-python",
   "name": "python",
   "nbconvert_exporter": "python",
   "pygments_lexer": "ipython3",
   "version": "3.6.1"
  }
 },
 "nbformat": 4,
 "nbformat_minor": 2
}

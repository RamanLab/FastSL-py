{
 "cells": [
  {
   "cell_type": "markdown",
   "metadata": {},
   "source": [
    "## Import modules"
   ]
  },
  {
   "cell_type": "code",
   "execution_count": 1,
   "metadata": {},
   "outputs": [],
   "source": [
    "import cobra\n",
    "# from numba import jit\n",
    "from tqdm import tqdm\n",
    "import numpy as np\n",
    "import math"
   ]
  },
  {
   "cell_type": "markdown",
   "metadata": {},
   "source": [
    "## Model"
   ]
  },
  {
   "cell_type": "code",
   "execution_count": 20,
   "metadata": {},
   "outputs": [
    {
     "data": {
      "text/html": [
       "\n",
       "        <table>\n",
       "            <tr>\n",
       "                <td><strong>Name</strong></td>\n",
       "                <td>iAF1260</td>\n",
       "            </tr><tr>\n",
       "                <td><strong>Memory address</strong></td>\n",
       "                <td>0x0109e4c860</td>\n",
       "            </tr><tr>\n",
       "                <td><strong>Number of metabolites</strong></td>\n",
       "                <td>1668</td>\n",
       "            </tr><tr>\n",
       "                <td><strong>Number of reactions</strong></td>\n",
       "                <td>2382</td>\n",
       "            </tr><tr>\n",
       "                <td><strong>Objective expression</strong></td>\n",
       "                <td>-1.0*BIOMASS_Ec_iAF1260_core_59p81M_reverse_3925e + 1.0*BIOMASS_Ec_iAF1260_core_59p81M</td>\n",
       "            </tr><tr>\n",
       "                <td><strong>Compartments</strong></td>\n",
       "                <td>cytosol, periplasm, extracellular space</td>\n",
       "            </tr>\n",
       "          </table>"
      ],
      "text/plain": [
       "<Model iAF1260 at 0x109e4c860>"
      ]
     },
     "execution_count": 20,
     "metadata": {},
     "output_type": "execute_result"
    }
   ],
   "source": [
    "model = cobra.io.read_sbml_model('Models/iAF1260.xml')\n",
    "model"
   ]
  },
  {
   "cell_type": "markdown",
   "metadata": {},
   "source": [
    "## Elimination list and model config"
   ]
  },
  {
   "cell_type": "code",
   "execution_count": 21,
   "metadata": {},
   "outputs": [],
   "source": [
    "elilist = model.exchanges\n",
    "model.solver = 'glpk'"
   ]
  },
  {
   "cell_type": "markdown",
   "metadata": {},
   "source": [
    "## Core model optimization"
   ]
  },
  {
   "cell_type": "code",
   "execution_count": 22,
   "metadata": {},
   "outputs": [
    {
     "data": {
      "text/html": [
       "<strong><em>Optimal</em> solution with objective value 0.737</strong><br><div>\n",
       "<style scoped>\n",
       "    .dataframe tbody tr th:only-of-type {\n",
       "        vertical-align: middle;\n",
       "    }\n",
       "\n",
       "    .dataframe tbody tr th {\n",
       "        vertical-align: top;\n",
       "    }\n",
       "\n",
       "    .dataframe thead th {\n",
       "        text-align: right;\n",
       "    }\n",
       "</style>\n",
       "<table border=\"1\" class=\"dataframe\">\n",
       "  <thead>\n",
       "    <tr style=\"text-align: right;\">\n",
       "      <th></th>\n",
       "      <th>fluxes</th>\n",
       "      <th>reduced_costs</th>\n",
       "    </tr>\n",
       "  </thead>\n",
       "  <tbody>\n",
       "    <tr>\n",
       "      <th>12DGR120tipp</th>\n",
       "      <td>0.000000</td>\n",
       "      <td>0.000000</td>\n",
       "    </tr>\n",
       "    <tr>\n",
       "      <th>12DGR140tipp</th>\n",
       "      <td>0.000000</td>\n",
       "      <td>-0.010031</td>\n",
       "    </tr>\n",
       "    <tr>\n",
       "      <th>12DGR141tipp</th>\n",
       "      <td>0.000000</td>\n",
       "      <td>0.000000</td>\n",
       "    </tr>\n",
       "    <tr>\n",
       "      <th>12DGR160tipp</th>\n",
       "      <td>0.000000</td>\n",
       "      <td>0.000000</td>\n",
       "    </tr>\n",
       "    <tr>\n",
       "      <th>12DGR161tipp</th>\n",
       "      <td>0.000000</td>\n",
       "      <td>0.000000</td>\n",
       "    </tr>\n",
       "    <tr>\n",
       "      <th>...</th>\n",
       "      <td>...</td>\n",
       "      <td>...</td>\n",
       "    </tr>\n",
       "    <tr>\n",
       "      <th>ZN2abcpp</th>\n",
       "      <td>0.000000</td>\n",
       "      <td>-0.008025</td>\n",
       "    </tr>\n",
       "    <tr>\n",
       "      <th>ZN2t3pp</th>\n",
       "      <td>0.000000</td>\n",
       "      <td>-0.002006</td>\n",
       "    </tr>\n",
       "    <tr>\n",
       "      <th>ZN2tpp</th>\n",
       "      <td>0.002327</td>\n",
       "      <td>0.000000</td>\n",
       "    </tr>\n",
       "    <tr>\n",
       "      <th>ZNabcpp</th>\n",
       "      <td>0.000000</td>\n",
       "      <td>-0.008025</td>\n",
       "    </tr>\n",
       "    <tr>\n",
       "      <th>Zn2tex</th>\n",
       "      <td>0.002327</td>\n",
       "      <td>0.000000</td>\n",
       "    </tr>\n",
       "  </tbody>\n",
       "</table>\n",
       "<p>2382 rows × 2 columns</p>\n",
       "</div>"
      ],
      "text/plain": [
       "<Solution 0.737 at 0x10a484d30>"
      ]
     },
     "execution_count": 22,
     "metadata": {},
     "output_type": "execute_result"
    }
   ],
   "source": [
    "solWT = model.optimize()\n",
    "solWT"
   ]
  },
  {
   "cell_type": "markdown",
   "metadata": {},
   "source": [
    "## Objective value and fluxes"
   ]
  },
  {
   "cell_type": "code",
   "execution_count": 23,
   "metadata": {},
   "outputs": [],
   "source": [
    "grWT = solWT.objective_value\n",
    "J = solWT.fluxes"
   ]
  },
  {
   "cell_type": "markdown",
   "metadata": {},
   "source": [
    "## Flux operations to obtain Jnz"
   ]
  },
  {
   "cell_type": "code",
   "execution_count": 24,
   "metadata": {},
   "outputs": [
    {
     "data": {
      "text/plain": [
       "array([  68,   69,   70,   71,   72,   73,   74,   77,   78,   79,   87,\n",
       "         88,   89,   90,   91,   92,   93,   96,   97,   98,   99,  100,\n",
       "        101,  102,  103,  104,  105,  108,  109,  124,  152,  163,  164,\n",
       "        165,  166,  167,  186,  190,  191,  192,  197,  198,  201,  202,\n",
       "        206,  211,  222,  223,  224,  225,  245,  246,  249,  251,  252,\n",
       "        253,  254,  255,  260,  263,  265,  304,  311,  312,  317,  335,\n",
       "        336,  341,  348,  355,  356,  357,  358,  363,  374,  375,  376,\n",
       "        381,  391,  394,  401,  414,  424,  425,  426,  446,  447,  450,\n",
       "        451,  454,  455,  466,  481,  488,  492,  493,  506,  508,  516,\n",
       "        523,  537,  541,  542,  548,  549,  553,  566,  572,  573,  574,\n",
       "        582,  583,  584,  585,  587,  589,  590,  592,  593,  594,  596,\n",
       "        597,  606,  607,  620,  621,  624,  625,  635,  643,  644,  648,\n",
       "        649,  651,  653,  655,  657,  659,  661,  667,  669,  671,  694,\n",
       "       1004, 1005, 1042, 1047, 1058, 1059, 1074, 1075, 1103, 1107, 1113,\n",
       "       1129, 1133, 1137, 1142, 1143, 1148, 1161, 1162, 1164, 1196, 1197,\n",
       "       1198, 1200, 1206, 1211, 1212, 1232, 1234, 1238, 1243, 1247, 1250,\n",
       "       1251, 1253, 1254, 1275, 1278, 1280, 1281, 1298, 1300, 1314, 1328,\n",
       "       1329, 1343, 1344, 1358, 1361, 1382, 1383, 1390, 1395, 1402, 1403,\n",
       "       1404, 1405, 1416, 1417, 1426, 1427, 1428, 1429, 1434, 1435, 1448,\n",
       "       1449, 1450, 1451, 1452, 1455, 1456, 1457, 1458, 1460, 1469, 1470,\n",
       "       1471, 1474, 1476, 1491, 1502, 1578, 1607, 1609, 1621, 1627, 1628,\n",
       "       1632, 1633, 1638, 1648, 1649, 1681, 1687, 1688, 1689, 1691, 1692,\n",
       "       1693, 1694, 1699, 1700, 1701, 1712, 1717, 1723, 1730, 1731, 1732,\n",
       "       1733, 1736, 1738, 1739, 1753, 1755, 1827, 1828, 1831, 1835, 1837,\n",
       "       1840, 1843, 1847, 1848, 1855, 1859, 1870, 1885, 1886, 1889, 1890,\n",
       "       1892, 1897, 1898, 1903, 1906, 1916, 1917, 1918, 1919, 1920, 1922,\n",
       "       1954, 1959, 1960, 2005, 2006, 2007, 2018, 2019, 2020, 2025, 2026,\n",
       "       2028, 2029, 2030, 2032, 2039, 2040, 2041, 2042, 2043, 2044, 2045,\n",
       "       2046, 2058, 2062, 2063, 2066, 2068, 2073, 2074, 2078, 2080, 2086,\n",
       "       2104, 2105, 2106, 2110, 2111, 2112, 2117, 2129, 2131, 2133, 2134,\n",
       "       2137, 2138, 2142, 2147, 2148, 2152, 2164, 2165, 2166, 2167, 2168,\n",
       "       2174, 2191, 2193, 2198, 2199, 2200, 2202, 2217, 2222, 2232, 2234,\n",
       "       2243, 2244, 2245, 2254, 2256, 2257, 2258, 2260, 2268, 2271, 2286,\n",
       "       2290, 2291, 2297, 2298, 2299, 2300, 2301, 2302, 2303, 2304, 2305,\n",
       "       2322, 2323, 2329, 2334, 2335, 2336, 2345, 2351, 2352, 2379, 2381])"
      ]
     },
     "execution_count": 24,
     "metadata": {},
     "output_type": "execute_result"
    }
   ],
   "source": [
    "Jnz_before_filtering = np.flatnonzero(J)\n",
    "eliIdx = [model.reactions.index(reaction_id) for reaction_id in elilist]\n",
    "Jnz = np.setdiff1d(Jnz_before_filtering,eliIdx)\n",
    "Jnz"
   ]
  },
  {
   "cell_type": "markdown",
   "metadata": {},
   "source": [
    "## Single lethal reactions"
   ]
  },
  {
   "cell_type": "code",
   "execution_count": 25,
   "metadata": {},
   "outputs": [
    {
     "data": {
      "text/plain": [
       "array([  68,   70,   72,   74,   77,   78,   79,   87,   89,   90,   91,\n",
       "         93,   96,   97,   98,   99,  101,  102,  103,  105,  108,  109,\n",
       "        124,  152,  163,  164,  165,  167,  186,  190,  191,  192,  201,\n",
       "        202,  222,  223,  224,  225,  245,  246,  249,  251,  252,  253,\n",
       "        254,  260,  263,  265,  304,  311,  312,  317,  335,  336,  341,\n",
       "        355,  356,  357,  363,  375,  381,  391,  394,  414,  424,  425,\n",
       "        426,  446,  447,  454,  455,  481,  488,  492,  493,  506,  508,\n",
       "        541,  542,  548,  549,  553,  566,  572,  573,  582,  583,  584,\n",
       "        585,  587,  590,  592,  593,  594,  596,  597,  606,  620,  621,\n",
       "        624,  625,  635,  643,  644,  648, 1004, 1047, 1107, 1133, 1137,\n",
       "       1142, 1143, 1148, 1161, 1200, 1206, 1212, 1238, 1250, 1251, 1253,\n",
       "       1254, 1298, 1314, 1328, 1329, 1358, 1361, 1382, 1383, 1390, 1395,\n",
       "       1402, 1403, 1404, 1405, 1417, 1426, 1427, 1428, 1429, 1434, 1449,\n",
       "       1450, 1451, 1452, 1455, 1456, 1457, 1458, 1469, 1470, 1471, 1476,\n",
       "       1491, 1502, 1607, 1609, 1627, 1628, 1632, 1633, 1638, 1649, 1687,\n",
       "       1688, 1689, 1691, 1692, 1693, 1694, 1701, 1717, 1723, 1731, 1733,\n",
       "       1738, 1739, 1753, 1755, 1831, 1835, 1837, 1840, 1843, 1847, 1855,\n",
       "       1859, 1870, 1885, 1892, 1897, 1898, 1903, 1916, 1954, 1960, 2005,\n",
       "       2006, 2007, 2018, 2020, 2028, 2029, 2030, 2039, 2040, 2041, 2042,\n",
       "       2043, 2044, 2045, 2046, 2058, 2062, 2063, 2073, 2074, 2080, 2104,\n",
       "       2110, 2111, 2112, 2117, 2142, 2147, 2148, 2152, 2164, 2165, 2166,\n",
       "       2167, 2168, 2174, 2198, 2199, 2200, 2217, 2222, 2232, 2234, 2243,\n",
       "       2254, 2256, 2257, 2286, 2290, 2291, 2297, 2298, 2299, 2300, 2301,\n",
       "       2302, 2303, 2304, 2305, 2322, 2323, 2329, 2334, 2335, 2336, 2351,\n",
       "       2381])"
      ]
     },
     "execution_count": 25,
     "metadata": {},
     "output_type": "execute_result"
    }
   ],
   "source": [
    "Jsl_idx = []\n",
    "for delIdx_i in Jnz:\n",
    "    with model:\n",
    "        model.reactions[delIdx_i].knock_out()\n",
    "        solKO_i = model.slim_optimize()\n",
    "        if solKO_i < 0.01 * grWT or math.isnan(solKO_i) == True:\n",
    "            Jsl_idx.append(int(delIdx_i))\n",
    "Jsl_idx = np.array(Jsl_idx)\n",
    "Jsl_idx"
   ]
  },
  {
   "cell_type": "markdown",
   "metadata": {},
   "source": [
    "## Eliminating single lethal reactions to continue further"
   ]
  },
  {
   "cell_type": "code",
   "execution_count": 26,
   "metadata": {},
   "outputs": [
    {
     "data": {
      "text/plain": [
       "array([  69,   71,   73,   88,   92,  100,  104,  166,  197,  198,  206,\n",
       "        211,  255,  348,  358,  374,  376,  401,  450,  451,  466,  516,\n",
       "        523,  537,  574,  589,  607,  649,  651,  653,  655,  657,  659,\n",
       "        661,  667,  669,  671,  694, 1005, 1042, 1058, 1059, 1074, 1075,\n",
       "       1103, 1113, 1129, 1162, 1164, 1196, 1197, 1198, 1211, 1232, 1234,\n",
       "       1243, 1247, 1275, 1278, 1280, 1281, 1300, 1343, 1344, 1416, 1435,\n",
       "       1448, 1460, 1474, 1578, 1621, 1648, 1681, 1699, 1700, 1712, 1730,\n",
       "       1732, 1736, 1827, 1828, 1848, 1886, 1889, 1890, 1906, 1917, 1918,\n",
       "       1919, 1920, 1922, 1959, 2019, 2025, 2026, 2032, 2066, 2068, 2078,\n",
       "       2086, 2105, 2106, 2129, 2131, 2133, 2134, 2137, 2138, 2191, 2193,\n",
       "       2202, 2244, 2245, 2258, 2260, 2268, 2271, 2345, 2352, 2379])"
      ]
     },
     "execution_count": 26,
     "metadata": {},
     "output_type": "execute_result"
    }
   ],
   "source": [
    "Jnz_copy = np.setdiff1d(Jnz,Jsl_idx)\n",
    "Jnz_copy"
   ]
  },
  {
   "cell_type": "markdown",
   "metadata": {},
   "source": [
    "## Double and Triple lethal reactions"
   ]
  },
  {
   "cell_type": "markdown",
   "metadata": {},
   "source": [
    "### First part"
   ]
  },
  {
   "cell_type": "code",
   "execution_count": 27,
   "metadata": {},
   "outputs": [
    {
     "name": "stderr",
     "output_type": "stream",
     "text": [
      "\r",
      "Part 1 of 2:   0%|          | 0/120 [00:00<?, ?it/s]\r",
      "Part 1 of 2:   1%|          | 1/120 [00:01<03:10,  1.60s/it]\r",
      "Part 1 of 2:   2%|▏         | 2/120 [00:03<03:19,  1.69s/it]\r",
      "Part 1 of 2:   2%|▎         | 3/120 [00:04<02:44,  1.40s/it]\r",
      "Part 1 of 2:   3%|▎         | 4/120 [00:06<03:06,  1.60s/it]\r",
      "Part 1 of 2:   4%|▍         | 5/120 [00:08<03:17,  1.72s/it]\r",
      "Part 1 of 2:   5%|▌         | 6/120 [00:10<03:22,  1.78s/it]\r",
      "Part 1 of 2:   6%|▌         | 7/120 [00:11<03:08,  1.66s/it]\r",
      "Part 1 of 2:   7%|▋         | 8/120 [00:13<03:14,  1.74s/it]\r",
      "Part 1 of 2:   8%|▊         | 9/120 [00:16<03:18,  1.79s/it]\r",
      "Part 1 of 2:   8%|▊         | 10/120 [00:18<03:21,  1.83s/it]\r",
      "Part 1 of 2:   9%|▉         | 11/120 [00:20<03:26,  1.90s/it]\r",
      "Part 1 of 2:  10%|█         | 12/120 [00:23<03:30,  1.95s/it]\r",
      "Part 1 of 2:  11%|█         | 13/120 [00:23<03:15,  1.83s/it]\r",
      "Part 1 of 2:  12%|█▏        | 14/120 [00:23<03:01,  1.71s/it]\r",
      "Part 1 of 2:  12%|█▎        | 15/120 [00:24<02:51,  1.63s/it]\r",
      "Part 1 of 2:  13%|█▎        | 16/120 [00:25<02:43,  1.57s/it]\r",
      "Part 1 of 2:  14%|█▍        | 17/120 [00:27<02:46,  1.62s/it]\r",
      "Part 1 of 2:  15%|█▌        | 18/120 [00:28<02:39,  1.56s/it]\r",
      "Part 1 of 2:  16%|█▌        | 19/120 [00:28<02:32,  1.51s/it]\r",
      "Part 1 of 2:  17%|█▋        | 20/120 [00:29<02:26,  1.46s/it]\r",
      "Part 1 of 2:  18%|█▊        | 21/120 [00:29<02:19,  1.41s/it]\r",
      "Part 1 of 2:  18%|█▊        | 22/120 [00:31<02:19,  1.42s/it]\r",
      "Part 1 of 2:  19%|█▉        | 23/120 [00:31<02:13,  1.37s/it]\r",
      "Part 1 of 2:  20%|██        | 24/120 [00:31<02:07,  1.33s/it]\r",
      "Part 1 of 2:  21%|██        | 25/120 [00:32<02:04,  1.31s/it]\r",
      "Part 1 of 2:  22%|██▏       | 26/120 [00:33<02:01,  1.29s/it]\r",
      "Part 1 of 2:  22%|██▎       | 27/120 [00:34<01:58,  1.28s/it]\r",
      "Part 1 of 2:  23%|██▎       | 28/120 [00:35<01:55,  1.26s/it]\r",
      "Part 1 of 2:  24%|██▍       | 29/120 [00:38<01:59,  1.32s/it]\r",
      "Part 1 of 2:  25%|██▌       | 30/120 [00:42<02:07,  1.41s/it]\r",
      "Part 1 of 2:  26%|██▌       | 31/120 [00:43<02:04,  1.40s/it]\r",
      "Part 1 of 2:  27%|██▋       | 32/120 [00:46<02:08,  1.46s/it]\r",
      "Part 1 of 2:  28%|██▊       | 33/120 [00:51<02:14,  1.55s/it]\r",
      "Part 1 of 2:  28%|██▊       | 34/120 [00:55<02:19,  1.62s/it]\r",
      "Part 1 of 2:  29%|██▉       | 35/120 [00:57<02:19,  1.65s/it]\r",
      "Part 1 of 2:  30%|███       | 36/120 [01:00<02:20,  1.67s/it]\r",
      "Part 1 of 2:  31%|███       | 37/120 [01:02<02:20,  1.70s/it]\r",
      "Part 1 of 2:  32%|███▏      | 38/120 [01:03<02:17,  1.68s/it]\r",
      "Part 1 of 2:  32%|███▎      | 39/120 [01:04<02:13,  1.65s/it]\r",
      "Part 1 of 2:  33%|███▎      | 40/120 [01:04<02:09,  1.62s/it]\r",
      "Part 1 of 2:  35%|███▌      | 42/120 [01:05<02:00,  1.55s/it]\r",
      "Part 1 of 2:  36%|███▌      | 43/120 [01:06<01:58,  1.54s/it]\r",
      "Part 1 of 2:  37%|███▋      | 44/120 [01:06<01:54,  1.51s/it]\r",
      "Part 1 of 2:  38%|███▊      | 45/120 [01:07<01:51,  1.49s/it]\r",
      "Part 1 of 2:  38%|███▊      | 46/120 [01:08<01:49,  1.49s/it]\r",
      "Part 1 of 2:  39%|███▉      | 47/120 [01:08<01:46,  1.46s/it]\r",
      "Part 1 of 2:  40%|████      | 48/120 [01:09<01:43,  1.44s/it]\r",
      "Part 1 of 2:  41%|████      | 49/120 [01:09<01:40,  1.42s/it]\r",
      "Part 1 of 2:  42%|████▏     | 50/120 [01:12<01:41,  1.45s/it]\r",
      "Part 1 of 2:  42%|████▎     | 51/120 [01:12<01:38,  1.43s/it]\r",
      "Part 1 of 2:  43%|████▎     | 52/120 [01:13<01:35,  1.41s/it]\r",
      "Part 1 of 2:  44%|████▍     | 53/120 [01:16<01:36,  1.44s/it]\r",
      "Part 1 of 2:  45%|████▌     | 54/120 [01:19<01:37,  1.47s/it]cobra/util/solver.py:403 \u001b[1;31mUserWarning\u001b[0m: solver status is 'infeasible'\n",
      "\r",
      "Part 1 of 2:  46%|████▌     | 55/120 [01:37<01:55,  1.77s/it]\r",
      "Part 1 of 2:  47%|████▋     | 56/120 [01:38<01:52,  1.75s/it]\r",
      "Part 1 of 2:  48%|████▊     | 57/120 [01:38<01:48,  1.73s/it]\r",
      "Part 1 of 2:  48%|████▊     | 58/120 [01:39<01:45,  1.71s/it]\r",
      "Part 1 of 2:  49%|████▉     | 59/120 [01:39<01:43,  1.69s/it]\r",
      "Part 1 of 2:  50%|█████     | 60/120 [01:40<01:40,  1.68s/it]\r",
      "Part 1 of 2:  51%|█████     | 61/120 [01:41<01:38,  1.66s/it]\r",
      "Part 1 of 2:  52%|█████▏    | 62/120 [01:42<01:35,  1.65s/it]\r",
      "Part 1 of 2:  52%|█████▎    | 63/120 [01:45<01:35,  1.67s/it]\r",
      "Part 1 of 2:  53%|█████▎    | 64/120 [01:46<01:32,  1.66s/it]\r",
      "Part 1 of 2:  54%|█████▍    | 65/120 [01:46<01:30,  1.64s/it]\r",
      "Part 1 of 2:  55%|█████▌    | 66/120 [01:47<01:27,  1.63s/it]\r",
      "Part 1 of 2:  56%|█████▌    | 67/120 [01:48<01:25,  1.61s/it]\r",
      "Part 1 of 2:  57%|█████▋    | 68/120 [01:50<01:24,  1.62s/it]\r",
      "Part 1 of 2:  57%|█████▊    | 69/120 [01:50<01:21,  1.60s/it]\r",
      "Part 1 of 2:  58%|█████▊    | 70/120 [01:51<01:19,  1.59s/it]\r",
      "Part 1 of 2:  59%|█████▉    | 71/120 [01:51<01:17,  1.58s/it]\r",
      "Part 1 of 2:  60%|██████    | 72/120 [01:52<01:14,  1.56s/it]\r",
      "Part 1 of 2:  61%|██████    | 73/120 [01:52<01:12,  1.54s/it]\r",
      "Part 1 of 2:  62%|██████▏   | 74/120 [01:53<01:10,  1.54s/it]\r",
      "Part 1 of 2:  62%|██████▎   | 75/120 [01:54<01:08,  1.53s/it]\r",
      "Part 1 of 2:  63%|██████▎   | 76/120 [01:54<01:06,  1.51s/it]\r",
      "Part 1 of 2:  64%|██████▍   | 77/120 [01:55<01:04,  1.50s/it]\r",
      "Part 1 of 2:  65%|██████▌   | 78/120 [01:57<01:03,  1.50s/it]\r",
      "Part 1 of 2:  66%|██████▌   | 79/120 [02:01<01:03,  1.54s/it]\r",
      "Part 1 of 2:  67%|██████▋   | 80/120 [02:02<01:01,  1.54s/it]\r",
      "Part 1 of 2:  68%|██████▊   | 81/120 [02:03<00:59,  1.53s/it]\r",
      "Part 1 of 2:  68%|██████▊   | 82/120 [02:04<00:57,  1.51s/it]\r",
      "Part 1 of 2:  69%|██████▉   | 83/120 [02:06<00:56,  1.53s/it]\r",
      "Part 1 of 2:  70%|███████   | 84/120 [02:07<00:54,  1.52s/it]\r",
      "Part 1 of 2:  71%|███████   | 85/120 [02:07<00:52,  1.50s/it]\r",
      "Part 1 of 2:  72%|███████▏  | 86/120 [02:08<00:50,  1.50s/it]\r",
      "Part 1 of 2:  72%|███████▎  | 87/120 [02:09<00:48,  1.48s/it]\r",
      "Part 1 of 2:  73%|███████▎  | 88/120 [02:09<00:47,  1.47s/it]\r",
      "Part 1 of 2:  74%|███████▍  | 89/120 [02:10<00:45,  1.46s/it]\r",
      "Part 1 of 2:  75%|███████▌  | 90/120 [02:12<00:44,  1.47s/it]\r",
      "Part 1 of 2:  76%|███████▌  | 91/120 [02:15<00:43,  1.49s/it]\r",
      "Part 1 of 2:  77%|███████▋  | 92/120 [02:15<00:41,  1.48s/it]\r",
      "Part 1 of 2:  78%|███████▊  | 93/120 [02:19<00:40,  1.50s/it]\r",
      "Part 1 of 2:  78%|███████▊  | 94/120 [02:19<00:38,  1.49s/it]\r",
      "Part 1 of 2:  79%|███████▉  | 95/120 [02:19<00:36,  1.47s/it]\r",
      "Part 1 of 2:  80%|████████  | 96/120 [02:20<00:35,  1.46s/it]\r",
      "Part 1 of 2:  81%|████████  | 97/120 [02:20<00:33,  1.45s/it]\r",
      "Part 1 of 2:  82%|████████▏ | 98/120 [02:20<00:31,  1.43s/it]\r",
      "Part 1 of 2:  82%|████████▎ | 99/120 [02:20<00:29,  1.42s/it]\r",
      "Part 1 of 2:  83%|████████▎ | 100/120 [02:21<00:28,  1.41s/it]\r",
      "Part 1 of 2:  84%|████████▍ | 101/120 [02:21<00:26,  1.40s/it]\r",
      "Part 1 of 2:  85%|████████▌ | 102/120 [02:22<00:25,  1.39s/it]\r",
      "Part 1 of 2:  86%|████████▌ | 103/120 [02:22<00:23,  1.39s/it]\r",
      "Part 1 of 2:  87%|████████▋ | 104/120 [02:24<00:22,  1.39s/it]\r",
      "Part 1 of 2:  88%|████████▊ | 105/120 [02:25<00:20,  1.39s/it]\r",
      "Part 1 of 2:  88%|████████▊ | 106/120 [02:27<00:19,  1.39s/it]\r",
      "Part 1 of 2:  89%|████████▉ | 107/120 [02:32<00:18,  1.42s/it]\r",
      "Part 1 of 2:  90%|█████████ | 108/120 [02:32<00:16,  1.41s/it]\r",
      "Part 1 of 2:  91%|█████████ | 109/120 [02:33<00:15,  1.40s/it]\r",
      "Part 1 of 2:  92%|█████████▏| 110/120 [02:33<00:13,  1.40s/it]\r",
      "Part 1 of 2:  92%|█████████▎| 111/120 [02:33<00:12,  1.39s/it]\r",
      "Part 1 of 2:  93%|█████████▎| 112/120 [02:33<00:10,  1.37s/it]\r",
      "Part 1 of 2:  94%|█████████▍| 113/120 [02:34<00:09,  1.36s/it]\r",
      "Part 1 of 2:  95%|█████████▌| 114/120 [02:37<00:08,  1.38s/it]\r",
      "Part 1 of 2:  96%|█████████▌| 115/120 [02:37<00:06,  1.37s/it]\r",
      "Part 1 of 2:  97%|█████████▋| 116/120 [02:37<00:05,  1.36s/it]\r",
      "Part 1 of 2:  98%|█████████▊| 117/120 [02:38<00:04,  1.35s/it]\r",
      "Part 1 of 2:  98%|█████████▊| 118/120 [02:38<00:02,  1.35s/it]\r",
      "Part 1 of 2:  99%|█████████▉| 119/120 [02:39<00:01,  1.34s/it]\r",
      "Part 1 of 2: 100%|██████████| 120/120 [02:40<00:00,  1.34s/it]\n"
     ]
    }
   ],
   "source": [
    "Jdl_idx = []\n",
    "Jtl_idx = []\n",
    "\n",
    "for delIdx_i in tqdm(Jnz_copy,desc='Part 1 of 2'):\n",
    "    with model:\n",
    "        model.reactions[delIdx_i].knock_out()\n",
    "        solKO_i = model.optimize()\n",
    "        newnnz = np.flatnonzero(solKO_i.fluxes)\n",
    "        Jnz_i_before_filtering = np.setdiff1d(newnnz,Jnz)\n",
    "        Jnz_i = np.setdiff1d(Jnz_i_before_filtering,eliIdx)\n",
    "\n",
    "        for delIdx_j in Jnz_i:\n",
    "            with model:\n",
    "                model.reactions[delIdx_j].knock_out()\n",
    "                solKO_ij = model.optimize()\n",
    "                if solKO_ij.objective_value < 0.01 * grWT and solKO_ij.status != 'infeasible':\n",
    "                    Jdl_idx.append([int(delIdx_i),int(delIdx_j)])\n",
    "                    \n",
    "                elif solKO_ij.status == 'infeasible':\n",
    "                    solKO_ij_infeasibility = model.optimize()\n",
    "                    \n",
    "                    if solKO_ij_infeasibility.objective_value < 0.01 * grWT or math.isnan(solKO_ij_infeasibility.objective_value) == True:\n",
    "                        Jdl_idx.append([int(delIdx_i),int(delIdx_j)])\n",
    "\n",
    "                    Jnz_ij_before_filtering = np.flatnonzero(solKO_ij_infeasibility.fluxes)\n",
    "                    Jnz_ij_after_filtering = np.setdiff1d(Jnz_ij_before_filtering,Jnz_before_filtering)\n",
    "                    Jnz_ij = np.setdiff1d(Jnz_ij_after_filtering,eliIdx)\n",
    "                    \n",
    "                    for delIdx_k in Jnz_ij:\n",
    "                        with model:\n",
    "                            model.reactions[delIdx_k].knock_out()\n",
    "                            solKO_ijk = model.slim_optimize()\n",
    "                            if solKO_ijk < 0.01 * grWT or math.isnan(solKO_ijk) == True:\n",
    "                                Jtl_idx.append([int(delIdx_i),int(delIdx_j),int(delIdx_k)])"
   ]
  },
  {
   "cell_type": "markdown",
   "metadata": {},
   "source": [
    "### Second part"
   ]
  },
  {
   "cell_type": "code",
   "execution_count": 28,
   "metadata": {},
   "outputs": [
    {
     "name": "stderr",
     "output_type": "stream",
     "text": [
      "\r",
      "Part 2 of 2:   0%|          | 0/120 [00:00<?, ?it/s]\r",
      "Part 2 of 2:   7%|▋         | 8/120 [00:00<00:01, 73.55it/s]\r",
      "Part 2 of 2:  10%|█         | 12/120 [00:00<00:02, 49.23it/s]\r",
      "Part 2 of 2:  12%|█▎        | 15/120 [00:00<00:02, 38.32it/s]\r",
      "Part 2 of 2:  15%|█▌        | 18/120 [00:00<00:03, 27.68it/s]\r",
      "Part 2 of 2:  17%|█▋        | 20/120 [00:00<00:04, 23.01it/s]\r",
      "Part 2 of 2:  18%|█▊        | 22/120 [00:01<00:05, 17.59it/s]\r",
      "Part 2 of 2:  20%|██        | 24/120 [00:01<00:06, 14.63it/s]\r",
      "Part 2 of 2:  22%|██▏       | 26/120 [00:02<00:07, 12.70it/s]\r",
      "Part 2 of 2:  22%|██▎       | 27/120 [00:02<00:07, 11.99it/s]\r",
      "Part 2 of 2:  23%|██▎       | 28/120 [00:02<00:08, 11.39it/s]\r",
      "Part 2 of 2:  24%|██▍       | 29/120 [00:02<00:08, 10.69it/s]\r",
      "Part 2 of 2:  25%|██▌       | 30/120 [00:02<00:08, 10.31it/s]\r",
      "Part 2 of 2:  26%|██▌       | 31/120 [00:03<00:09,  9.87it/s]\r",
      "Part 2 of 2:  27%|██▋       | 32/120 [00:03<00:09,  9.25it/s]\r",
      "Part 2 of 2:  28%|██▊       | 33/120 [00:03<00:09,  8.91it/s]\r",
      "Part 2 of 2:  28%|██▊       | 34/120 [00:03<00:09,  8.62it/s]\r",
      "Part 2 of 2:  29%|██▉       | 35/120 [00:04<00:10,  8.43it/s]\r",
      "Part 2 of 2:  30%|███       | 36/120 [00:04<00:10,  8.25it/s]\r",
      "Part 2 of 2:  31%|███       | 37/120 [00:04<00:10,  8.02it/s]\r",
      "Part 2 of 2:  32%|███▏      | 38/120 [00:04<00:10,  7.79it/s]\r",
      "Part 2 of 2:  32%|███▎      | 39/120 [00:05<00:10,  7.52it/s]\r",
      "Part 2 of 2:  33%|███▎      | 40/120 [00:05<00:11,  7.24it/s]\r",
      "Part 2 of 2:  34%|███▍      | 41/120 [00:05<00:11,  7.05it/s]\r",
      "Part 2 of 2:  35%|███▌      | 42/120 [00:06<00:11,  6.87it/s]\r",
      "Part 2 of 2:  36%|███▌      | 43/120 [00:06<00:11,  6.74it/s]\r",
      "Part 2 of 2:  37%|███▋      | 44/120 [00:06<00:11,  6.60it/s]\r",
      "Part 2 of 2:  38%|███▊      | 45/120 [00:06<00:11,  6.48it/s]\r",
      "Part 2 of 2:  38%|███▊      | 46/120 [00:07<00:11,  6.39it/s]\r",
      "Part 2 of 2:  39%|███▉      | 47/120 [00:07<00:11,  6.28it/s]\r",
      "Part 2 of 2:  40%|████      | 48/120 [00:07<00:11,  6.16it/s]\r",
      "Part 2 of 2:  41%|████      | 49/120 [00:08<00:11,  6.01it/s]cobra/util/solver.py:403 \u001b[1;31mUserWarning\u001b[0m: solver status is 'infeasible'\n",
      "\r",
      "Part 2 of 2:  42%|████▏     | 50/120 [00:21<00:30,  2.30it/s]\r",
      "Part 2 of 2:  42%|████▎     | 51/120 [00:22<00:29,  2.30it/s]\r",
      "Part 2 of 2:  43%|████▎     | 52/120 [00:22<00:29,  2.31it/s]\r",
      "Part 2 of 2:  44%|████▍     | 53/120 [00:22<00:28,  2.32it/s]\r",
      "Part 2 of 2:  45%|████▌     | 54/120 [00:23<00:28,  2.32it/s]\r",
      "Part 2 of 2:  46%|████▌     | 55/120 [00:23<00:27,  2.32it/s]\r",
      "Part 2 of 2:  47%|████▋     | 56/120 [00:24<00:27,  2.32it/s]\r",
      "Part 2 of 2:  48%|████▊     | 57/120 [00:24<00:27,  2.32it/s]\r",
      "Part 2 of 2:  48%|████▊     | 58/120 [00:24<00:26,  2.32it/s]\r",
      "Part 2 of 2:  49%|████▉     | 59/120 [00:25<00:26,  2.33it/s]\r",
      "Part 2 of 2:  50%|█████     | 60/120 [00:25<00:25,  2.34it/s]\r",
      "Part 2 of 2:  51%|█████     | 61/120 [00:26<00:25,  2.33it/s]\r",
      "Part 2 of 2:  52%|█████▏    | 62/120 [00:26<00:24,  2.34it/s]\r",
      "Part 2 of 2:  52%|█████▎    | 63/120 [00:27<00:24,  2.32it/s]\r",
      "Part 2 of 2:  53%|█████▎    | 64/120 [00:27<00:24,  2.32it/s]\r",
      "Part 2 of 2:  54%|█████▍    | 65/120 [00:28<00:23,  2.30it/s]\r",
      "Part 2 of 2:  55%|█████▌    | 66/120 [00:28<00:23,  2.29it/s]\r",
      "Part 2 of 2:  56%|█████▌    | 67/120 [00:29<00:23,  2.28it/s]\r",
      "Part 2 of 2:  57%|█████▋    | 68/120 [00:29<00:22,  2.27it/s]\r",
      "Part 2 of 2:  57%|█████▊    | 69/120 [00:30<00:22,  2.26it/s]\r",
      "Part 2 of 2:  58%|█████▊    | 70/120 [00:31<00:22,  2.24it/s]\r",
      "Part 2 of 2:  59%|█████▉    | 71/120 [00:31<00:21,  2.23it/s]\r",
      "Part 2 of 2:  60%|██████    | 72/120 [00:32<00:21,  2.22it/s]\r",
      "Part 2 of 2:  61%|██████    | 73/120 [00:32<00:21,  2.21it/s]\r",
      "Part 2 of 2:  62%|██████▏   | 74/120 [00:33<00:20,  2.21it/s]\r",
      "Part 2 of 2:  62%|██████▎   | 75/120 [00:34<00:20,  2.20it/s]\r",
      "Part 2 of 2:  63%|██████▎   | 76/120 [00:34<00:20,  2.19it/s]\r",
      "Part 2 of 2:  64%|██████▍   | 77/120 [00:35<00:19,  2.17it/s]\r",
      "Part 2 of 2:  65%|██████▌   | 78/120 [00:36<00:19,  2.16it/s]\r",
      "Part 2 of 2:  66%|██████▌   | 79/120 [00:36<00:19,  2.15it/s]\r",
      "Part 2 of 2:  67%|██████▋   | 80/120 [01:04<00:32,  1.25it/s]\r",
      "Part 2 of 2:  68%|██████▊   | 81/120 [01:22<00:39,  1.02s/it]\r",
      "Part 2 of 2:  68%|██████▊   | 82/120 [01:23<00:38,  1.02s/it]\r",
      "Part 2 of 2:  69%|██████▉   | 83/120 [01:23<00:37,  1.01s/it]\r",
      "Part 2 of 2:  70%|███████   | 84/120 [01:24<00:36,  1.01s/it]\r",
      "Part 2 of 2:  71%|███████   | 85/120 [01:25<00:35,  1.00s/it]\r",
      "Part 2 of 2:  72%|███████▏  | 86/120 [01:25<00:33,  1.00it/s]\r",
      "Part 2 of 2:  72%|███████▎  | 87/120 [01:26<00:32,  1.01it/s]\r",
      "Part 2 of 2:  73%|███████▎  | 88/120 [01:27<00:31,  1.01it/s]\r",
      "Part 2 of 2:  74%|███████▍  | 89/120 [02:16<00:47,  1.54s/it]\r",
      "Part 2 of 2:  75%|███████▌  | 90/120 [02:17<00:45,  1.53s/it]\r",
      "Part 2 of 2:  76%|███████▌  | 91/120 [03:01<00:57,  2.00s/it]\r",
      "Part 2 of 2:  77%|███████▋  | 92/120 [03:02<00:55,  1.99s/it]\r",
      "Part 2 of 2:  78%|███████▊  | 93/120 [03:03<00:53,  1.97s/it]\r",
      "Part 2 of 2:  78%|███████▊  | 94/120 [03:04<00:51,  1.96s/it]\r",
      "Part 2 of 2:  79%|███████▉  | 95/120 [03:05<00:48,  1.95s/it]\r",
      "Part 2 of 2:  80%|████████  | 96/120 [03:06<00:46,  1.94s/it]\r",
      "Part 2 of 2:  81%|████████  | 97/120 [03:07<00:44,  1.93s/it]\r",
      "Part 2 of 2:  82%|████████▏ | 98/120 [03:08<00:42,  1.92s/it]\r",
      "Part 2 of 2:  82%|████████▎ | 99/120 [03:09<00:40,  1.91s/it]\r",
      "Part 2 of 2:  83%|████████▎ | 100/120 [03:10<00:38,  1.90s/it]\r",
      "Part 2 of 2:  84%|████████▍ | 101/120 [03:11<00:35,  1.89s/it]\r",
      "Part 2 of 2:  85%|████████▌ | 102/120 [03:12<00:33,  1.88s/it]\r",
      "Part 2 of 2:  86%|████████▌ | 103/120 [03:13<00:31,  1.88s/it]\r",
      "Part 2 of 2:  87%|████████▋ | 104/120 [03:14<00:29,  1.87s/it]\r",
      "Part 2 of 2:  88%|████████▊ | 105/120 [03:14<00:27,  1.86s/it]\r",
      "Part 2 of 2:  88%|████████▊ | 106/120 [03:15<00:25,  1.85s/it]\r",
      "Part 2 of 2:  89%|████████▉ | 107/120 [03:16<00:23,  1.84s/it]\r",
      "Part 2 of 2:  90%|█████████ | 108/120 [03:17<00:21,  1.83s/it]\r",
      "Part 2 of 2:  91%|█████████ | 109/120 [03:18<00:20,  1.82s/it]\r",
      "Part 2 of 2:  92%|█████████▏| 110/120 [03:19<00:18,  1.81s/it]\r",
      "Part 2 of 2:  92%|█████████▎| 111/120 [03:20<00:16,  1.80s/it]\r",
      "Part 2 of 2:  93%|█████████▎| 112/120 [03:21<00:14,  1.80s/it]\r",
      "Part 2 of 2:  94%|█████████▍| 113/120 [03:22<00:12,  1.79s/it]\r",
      "Part 2 of 2:  95%|█████████▌| 114/120 [03:23<00:10,  1.78s/it]\r",
      "Part 2 of 2:  96%|█████████▌| 115/120 [03:24<00:08,  1.78s/it]\r",
      "Part 2 of 2:  97%|█████████▋| 116/120 [03:25<00:07,  1.77s/it]\r",
      "Part 2 of 2:  98%|█████████▊| 117/120 [03:26<00:05,  1.76s/it]\r",
      "Part 2 of 2:  98%|█████████▊| 118/120 [03:27<00:03,  1.76s/it]\r",
      "Part 2 of 2:  99%|█████████▉| 119/120 [03:27<00:01,  1.75s/it]\r",
      "Part 2 of 2: 100%|██████████| 120/120 [03:28<00:00,  1.74s/it]\n"
     ]
    }
   ],
   "source": [
    "for delIdx_i in tqdm(Jnz_copy,desc='Part 2 of 2'):\n",
    "    for delIdx_j in Jnz_copy:\n",
    "        if np.where(Jnz_copy==delIdx_j) < np.where(Jnz_copy==delIdx_i):\n",
    "            with model:\n",
    "                model.reactions[delIdx_i].knock_out()\n",
    "                model.reactions[delIdx_j].knock_out()\n",
    "                solKO_ij = model.slim_optimize()\n",
    "                if solKO_ij < 0.01 * grWT:\n",
    "                    Jdl_idx.append([int(delIdx_i),int(delIdx_j)])\n",
    "                \n",
    "                elif math.isnan(solKO_ij) == True:\n",
    "                    solKO_ij = model.optimize()\n",
    "                    if solKO_ij.objective_value < 0.01 * grWT or math.isnan(solKO_ij.objective_value) == True:\n",
    "                        Jdl_idx.append([int(delIdx_i),int(delIdx_j)])\n",
    "\n",
    "                    Jnz_ij_before_filtering = np.flatnonzero(solKO_ij.fluxes)\n",
    "                    Jnz_ij_after_filtering = np.setdiff1d(Jnz_ij_before_filtering,Jnz_before_filtering)\n",
    "                    Jnz_ij = np.setdiff1d(Jnz_ij_after_filtering,eliIdx)\n",
    "\n",
    "                    for delIdx_k in Jnz_ij:\n",
    "                        with model:\n",
    "                            solKO_ijk = model.slim_optimize()\n",
    "                            if solKO_ijk < 0.01 * grWT or math.isnan(solKO_ijk) == True:\n",
    "                                Jtl_idx.append([int(delIdx_i),int(delIdx_j),int(delIdx_k)])\n",
    "\n",
    "                    for delIdx_k in Jnz_copy:\n",
    "                        with model:\n",
    "                            if np.where(Jnz_copy==delIdx_k) < np.where(Jnz_copy==delIdx_j):\n",
    "                                solKO_ijk = model.slim_optimize()\n",
    "                                if solKO_ijk < 0.01 * grWT or math.isnan(solKO_ijk) == True:\n",
    "                                    Jtl_idx.append([int(delIdx_i),int(delIdx_j),int(delIdx_k)])\n",
    "\n",
    "# Eliminate double lethal reaction deletions in triple lethal reacutions\n",
    "Jdl_idx = np.array(Jdl_idx)\n",
    "Jtl_idx = np.array(Jtl_idx)"
   ]
  },
  {
   "cell_type": "code",
   "execution_count": 17,
   "metadata": {},
   "outputs": [
    {
     "data": {
      "text/plain": [
       "array([[ 166,  199],\n",
       "       [ 348,  347],\n",
       "       [ 466,  123],\n",
       "       [ 466,  467],\n",
       "       [ 537,  538],\n",
       "       [ 588,  589],\n",
       "       [ 607, 1447],\n",
       "       [ 649,  650],\n",
       "       [ 651,  652],\n",
       "       [ 653,  654],\n",
       "       [ 655,  656],\n",
       "       [ 657,  658],\n",
       "       [ 659,  660],\n",
       "       [ 661,  662],\n",
       "       [ 667,  668],\n",
       "       [ 669,  670],\n",
       "       [ 671,  672],\n",
       "       [ 694, 2036],\n",
       "       [1074,  578],\n",
       "       [1074,  579],\n",
       "       [1074,  695],\n",
       "       [1074,  697],\n",
       "       [1074, 1087],\n",
       "       [1074, 1088],\n",
       "       [1074, 1089],\n",
       "       [1074, 1090],\n",
       "       [1074, 1091],\n",
       "       [1074, 2151],\n",
       "       [1129, 2189],\n",
       "       [1162, 1707],\n",
       "       [1196, 2036],\n",
       "       [1198, 1102],\n",
       "       [1198, 1348],\n",
       "       [1198, 1349],\n",
       "       [1243, 1707],\n",
       "       [1247, 1252],\n",
       "       [1259, 1278],\n",
       "       [1259, 1280],\n",
       "       [1435, 1406],\n",
       "       [1435, 2364],\n",
       "       [1448, 1447],\n",
       "       [1460, 1459],\n",
       "       [1474, 1473],\n",
       "       [1681, 1686],\n",
       "       [1730,  207],\n",
       "       [1848, 1849],\n",
       "       [1886, 1315],\n",
       "       [1886, 1322],\n",
       "       [1886, 1887],\n",
       "       [1890, 1891],\n",
       "       [1919, 2036],\n",
       "       [1959, 1961],\n",
       "       [2025, 2011],\n",
       "       [2026, 2055],\n",
       "       [2032, 2031],\n",
       "       [2078,  199],\n",
       "       [2105, 2055],\n",
       "       [2106, 2055],\n",
       "       [2125, 1315],\n",
       "       [2125, 1322],\n",
       "       [2125, 2126],\n",
       "       [2127, 1315],\n",
       "       [2127, 1322],\n",
       "       [2127, 2128],\n",
       "       [2129, 1315],\n",
       "       [2129, 1322],\n",
       "       [2129, 2130],\n",
       "       [2260, 1315],\n",
       "       [2260, 1322],\n",
       "       [2260, 1887],\n",
       "       [2260, 2126],\n",
       "       [2260, 2128],\n",
       "       [2260, 2130],\n",
       "       [2270, 2269],\n",
       "       [2271, 2269],\n",
       "       [2357, 2352],\n",
       "       [2379, 2380],\n",
       "       [ 197,  166],\n",
       "       [1198, 1197],\n",
       "       [1275, 1211],\n",
       "       [1343,  450],\n",
       "       [1344,  450],\n",
       "       [1448,  607],\n",
       "       [1917, 1211],\n",
       "       [1917, 1275],\n",
       "       [2066, 1211],\n",
       "       [2066, 1275],\n",
       "       [2068, 1211],\n",
       "       [2068, 1275],\n",
       "       [2078,  197],\n",
       "       [2137, 1300],\n",
       "       [2138, 2137],\n",
       "       [2202, 2138],\n",
       "       [2244, 2137],\n",
       "       [2244, 2138],\n",
       "       [2245, 1300],\n",
       "       [2245, 2137],\n",
       "       [2245, 2138],\n",
       "       [2245, 2202],\n",
       "       [2245, 2244]])"
      ]
     },
     "execution_count": 17,
     "metadata": {},
     "output_type": "execute_result"
    }
   ],
   "source": [
    "Jdl_idx"
   ]
  },
  {
   "cell_type": "code",
   "execution_count": 19,
   "metadata": {},
   "outputs": [
    {
     "data": {
      "text/plain": [
       "(0,)"
      ]
     },
     "execution_count": 19,
     "metadata": {},
     "output_type": "execute_result"
    }
   ],
   "source": [
    "Jtl_idx"
   ]
  },
  {
   "cell_type": "code",
   "execution_count": null,
   "metadata": {},
   "outputs": [],
   "source": [
    "temporary = []\n",
    "g = np.zeros(Jdl_idx.shape[0])\n",
    "for delIdx_i in Jtl_idx:\n",
    "    for delIdx_j in Jdl_idx:\n",
    "        g[np.where(Jdl_idx==delIdx_j)[0][0]] = np.sum(np.in1d(delIdx_i,delIdx_j))\n",
    "#         if g[np.where(Jdl_idx==delIdx_j)[0][0]] >= 2:\n",
    "#             break\n",
    "#             print(g[np.where(Jdl_idx==delIdx_j)[0][0]])\n",
    "    if np.max(g) < 2:\n",
    "#         print(g[np.where(Jdl_idx==delIdx_j)[0][0]])\n",
    "        temporary.append(delIdx_i)\n",
    "\n",
    "# Jtl_idx_copy = np.array(temporary)\n",
    "# Jtl_idx_copy = np.unique(np.sort(Jtl_idx_copy), axis=0)\n",
    "\n",
    "#     Jdl = [model.reactions.get_by_any(rxn_pair_idx) for rxn_pair_idx in Jdl_idx]\n",
    "#     Jtl = [model.reactions.get_by_any(rxn_triplet_idx) for rxn_triplet_idx in Jtl_idx]"
   ]
  },
  {
   "cell_type": "code",
   "execution_count": null,
   "metadata": {},
   "outputs": [],
   "source": [
    "Jdl_idx.shape"
   ]
  },
  {
   "cell_type": "code",
   "execution_count": null,
   "metadata": {},
   "outputs": [],
   "source": [
    "np.unique(np.sort(np.array(temporary), axis=1), axis=0).shape"
   ]
  },
  {
   "cell_type": "code",
   "execution_count": null,
   "metadata": {},
   "outputs": [],
   "source": [
    "np.savetxt('Jtl.csv',Jtl_idx,delimiter=',')"
   ]
  },
  {
   "cell_type": "code",
   "execution_count": null,
   "metadata": {},
   "outputs": [],
   "source": [
    "Jsl_genes = []\n",
    "for reaction in Jsl_idx:\n",
    "    print(model.genes.index(model.reactions[reaction].genes))"
   ]
  }
 ],
 "metadata": {
  "kernelspec": {
   "display_name": "py361-cobra",
   "language": "python",
   "name": "py361-cobra"
  },
  "language_info": {
   "codemirror_mode": {
    "name": "ipython",
    "version": 3
   },
   "file_extension": ".py",
   "mimetype": "text/x-python",
   "name": "python",
   "nbconvert_exporter": "python",
   "pygments_lexer": "ipython3",
   "version": "3.6.1"
  }
 },
 "nbformat": 4,
 "nbformat_minor": 2
}
